{
 "cells": [
  {
   "cell_type": "code",
<<<<<<< HEAD
   "execution_count": 1,
=======
   "execution_count": 17,
>>>>>>> b8fd1744452784bcdf0b94ecc4c0d3904e17b0f0
   "metadata": {},
   "outputs": [
    {
     "name": "stdout",
     "output_type": "stream",
     "text": [
      "35783533.5\n"
     ]
    }
   ],
   "source": [
    "print (143134134/4)"
   ]
  }
 ],
 "metadata": {
  "interpreter": {
<<<<<<< HEAD
   "hash": "63a0fee2d8a6d1c7cf803a50a9f77e2d81be5e63fd2b9fae987b5ec1cd03c6db"
  },
  "kernelspec": {
   "display_name": "Python 3.10.4 64-bit (windows store)",
=======
   "hash": "35cc6da82afb0ca842d11f75d2434f3ffb8f038d7ac6c526d32626081c9c81fe"
  },
  "kernelspec": {
   "display_name": "Python 3.10.3 64-bit",
>>>>>>> b8fd1744452784bcdf0b94ecc4c0d3904e17b0f0
   "language": "python",
   "name": "python3"
  },
  "language_info": {
   "codemirror_mode": {
    "name": "ipython",
    "version": 3
   },
   "file_extension": ".py",
   "mimetype": "text/x-python",
   "name": "python",
   "nbconvert_exporter": "python",
   "pygments_lexer": "ipython3",
<<<<<<< HEAD
   "version": "3.10.4"
=======
   "version": "3.10.3"
>>>>>>> b8fd1744452784bcdf0b94ecc4c0d3904e17b0f0
  },
  "orig_nbformat": 4
 },
 "nbformat": 4,
 "nbformat_minor": 2
}
