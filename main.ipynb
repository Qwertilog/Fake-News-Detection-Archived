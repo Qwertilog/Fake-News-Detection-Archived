{
 "cells": [
  {
   "cell_type": "code",
   "execution_count": 17,
   "metadata": {},
   "outputs": [
    {
     "name": "stdout",
     "output_type": "stream",
     "text": [
      "35783533.5\n"
     ]
    }
   ],
   "source": [
    "print (143134134/4)"
   ]
  }
 ],
 "metadata": {
  "interpreter": {
   "hash": "35cc6da82afb0ca842d11f75d2434f3ffb8f038d7ac6c526d32626081c9c81fe"
  },
  "kernelspec": {
   "display_name": "Python 3.10.3 64-bit",
   "language": "python",
   "name": "python3"
  },
  "language_info": {
   "codemirror_mode": {
    "name": "ipython",
    "version": 3
   },
   "file_extension": ".py",
   "mimetype": "text/x-python",
   "name": "python",
   "nbconvert_exporter": "python",
   "pygments_lexer": "ipython3",
   "version": "3.10.3"
  },
  "orig_nbformat": 4
 },
 "nbformat": 4,
 "nbformat_minor": 2
}
