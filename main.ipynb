{
 "cells": [
  {
   "cell_type": "code",
   "execution_count": 1,
   "metadata": {},
   "outputs": [],
   "source": [
    "#this is a test code\n",
    "asdhkaksjdhakjsdhaksjhdaklsdhasdha\n",
    "\n",
    "diara magkaigsuonan isug kaayo si muskob nagsolo sa mid bang gi tuyok tuyokang ni panda nagpaabot si lansilot patay gilayatan igo bang pataya gyud\n",
    "igo sila ni panda si lansilot nagbinugo o nisukol pasa tower gamay nalayg life\n",
    "pauli to sigurado magpatubil padtong animal nahadlok naning animal\n",
    "grabi nani kaayong duwaa karon bang nabuhi nasi muskob mao nani naghunana gi sight gi pangita tuara DAGAN LANSILOT DAGAN DAGAN GYUD igo BANG PATAY SUKARAP WANA KABAROG"
   ]
  }
 ],
 "metadata": {
  "interpreter": {
   "hash": "63a0fee2d8a6d1c7cf803a50a9f77e2d81be5e63fd2b9fae987b5ec1cd03c6db"
  },
  "kernelspec": {
   "display_name": "Python 3.10.4 64-bit (windows store)",
   "language": "python",
   "name": "python3"
  },
  "language_info": {
   "codemirror_mode": {
    "name": "ipython",
    "version": 3
   },
   "file_extension": ".py",
   "mimetype": "text/x-python",
   "name": "python",
   "nbconvert_exporter": "python",
   "pygments_lexer": "ipython3",
   "version": "3.10.4"
  },
  "orig_nbformat": 4
 },
 "nbformat": 4,
 "nbformat_minor": 2
}
