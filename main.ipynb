{
 "cells": [
  {
   "cell_type": "code",
   "execution_count": 1,
   "metadata": {},
   "outputs": [],
   "source": [
    "#this is a test code\n",
    "asdhkaksjdhakjsdhaksjhdaklsdhasdha\n",
    "\n",
    "diara magkaigsuonan isug kaayo si muskob nagsolo sa mid bang gi tuyok tuyokang ni panda nagpaabot si lansilot patay gilayatan igo bang pataya gyud\n",
    "igo sila ni panda si lansilot nagbinugo o nisukol pasa tower gamay nalayg life\n",
    "pauli to sigurado magpatubil padtong animal nahadlok naning animal\n",
    "grabi nani kaayong duwaa karon bang nabuhi nasi muskob mao nani naghunana gi sight gi pangita tuara DAGAN LANSILOT DAGAN DAGAN GYUD igo BANG PATAY SUKARAP WANA KABAROG\n",
    "\n",
    "My name is Walter Hartwell White. I live at 308 Negra Arroyo Lane, Albuquerque, New Mexico, 87104. This is my confession. \n",
    "If you're watching this tape, I'm probably dead- murdered by my brother-in-law, Hank Schrader. Hank has been building a meth empire for over a year now, and using me as his chemist. \n",
    "Shortly after my 50th birthday, he asked that I use my chemistry knowledge to cook methamphetamine, which he would then sell using connections that he made through his career with the DEA. \n",
    "I was... astounded. I... I always thought Hank was a very moral man, and I was particularly vulnerable at the time - something he knew and took advantage of. \n",
    "I was reeling from a cancer diagnosis that was poised to bankrupt my family. \n",
    "Hank took me in on a ride-along and showed me just how much money even a small meth operation could make. \n",
    "And I was weak. \n",
    "I didn't want my family to go into financial ruin, so I agreed. Hank had a partner, a businessman named Gustavo Fring. Hank sold me into servitude to this man. And when I tried to quit, Fring threatened my family. \n",
    "I didn't know where to turn. Eventually, Hank and Fring had a falling-out. Things escalated. \n",
    "Fring was able to arrange - uh, I guess... I guess you call it a \"hit\" - on Hank, and failed, but Hank was seriously injured. \n",
    "And I wound up paying his medical bills, which amounted to a little over $177,000. Upon recovery, Hank was bent on revenge. \n",
    "Working with a man named Hector Salamanca, he plotted to kill Fring. The bomb that he used was built by me, and he gave me no option in it. \n",
    "I have often contemplated suicide, but I'm a coward. I wanted to go to the police, but I was frightened. Hank had risen to become the head of the Albuquerque DEA. \n",
    "To keep me in line, he took my children. For three months, he kept them. My wife had no idea of my criminal activities, and was horrified to learn what I had done. \n",
    "I was in hell. I hated myself for what I had brought upon my family. Recently, I tried once again to quit, and in response, he gave me this. I can't take this anymore. \n",
    "I live in fear every day that Hank will kill me, or worse, hurt my family. All I could think to do was to make this video and hope that the world will finally see this man for what he really is.\n",
    "\n",
    "vvvvvvvvvvvvvv"
   ]
  }
 ],
 "metadata": {
  "interpreter": {
   "hash": "63a0fee2d8a6d1c7cf803a50a9f77e2d81be5e63fd2b9fae987b5ec1cd03c6db"
  },
  "kernelspec": {
   "display_name": "Python 3.10.4 64-bit (windows store)",
   "language": "python",
   "name": "python3"
  },
  "language_info": {
   "codemirror_mode": {
    "name": "ipython",
    "version": 3
   },
   "file_extension": ".py",
   "mimetype": "text/x-python",
   "name": "python",
   "nbconvert_exporter": "python",
   "pygments_lexer": "ipython3",
   "version": "3.10.4"
  },
  "orig_nbformat": 4
 },
 "nbformat": 4,
 "nbformat_minor": 2
}
