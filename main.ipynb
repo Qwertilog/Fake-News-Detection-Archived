{
 "cells": [
  {
   "cell_type": "code",
   "execution_count": 1,
   "metadata": {},
   "outputs": [
    {
     "ename": "SyntaxError",
     "evalue": "invalid syntax (3945326542.py, line 3)",
     "output_type": "error",
     "traceback": [
      "\u001b[1;36m  Input \u001b[1;32mIn [1]\u001b[1;36m\u001b[0m\n\u001b[1;33m    krazy rapid boots\u001b[0m\n\u001b[1;37m          ^\u001b[0m\n\u001b[1;31mSyntaxError\u001b[0m\u001b[1;31m:\u001b[0m invalid syntax\n"
     ]
    }
   ],
   "source": [
    "#this is a test code\n",
    "\n",
    "krazy rapid boots\n",
    "idol hindi porket gosyon gamit mo\n",
    "hindi na pwede mag rapid boots\n",
    "para sabahin ko sayo\n",
    "sa mundo ng mobayl lijen\n",
    "lahat ng aytems ay pwede gamitin ng heroes\n",
    "naiintindihan moba idol\n",
    "mag aral ka muna ng mabuti\n",
    "tungkol sa ml o mobayl lijen\n",
    "\n",
    "lods ledyit talaga\n",
    "lahat ng item\n",
    "pwede gamitin sa ibang hirus\n",
    "katulad ni karina\n",
    "oo naman lods\n",
    "buti ka pa\n",
    "naiintindihan mo ko\n",
    "yung iba andaming bash\n",
    "hindi naman nakakaintindi\n",
    "tingnan mo naman tank karina\n",
    "savids na savids pa\n",
    "yung iba yung iba\n",
    "mvp ludz mvp\n",
    "kaya ganun kalupit\n",
    "ang tank karina\n",
    "\n",
    "krazy"
   ]
  }
 ],
 "metadata": {
  "interpreter": {
   "hash": "a6b989f8aea76d281d40c171688fb68eaa44ba401600b93bc7d7cc3f2b5fca20"
  },
  "kernelspec": {
   "display_name": "Python 3.10.4 64-bit",
   "language": "python",
   "name": "python3"
  },
  "language_info": {
   "codemirror_mode": {
    "name": "ipython",
    "version": 3
   },
   "file_extension": ".py",
   "mimetype": "text/x-python",
   "name": "python",
   "nbconvert_exporter": "python",
   "pygments_lexer": "ipython3",
   "version": "3.10.4"
  },
  "orig_nbformat": 4
 },
 "nbformat": 4,
 "nbformat_minor": 2
}
